{
 "cells": [
  {
   "attachments": {},
   "cell_type": "markdown",
   "metadata": {},
   "source": [
    "<aside>\n",
    "💡 **Question 1**\n",
    "\n",
    "A permutation perm of n + 1 integers of all the integers in the range [0, n] can be represented as a string s of length n where:\n",
    "\n",
    "- s[i] == 'I' if perm[i] < perm[i + 1], and\n",
    "- s[i] == 'D' if perm[i] > perm[i + 1].\n",
    "\n",
    "Given a string s, reconstruct the permutation perm and return it. If there are multiple valid permutations perm, return **any of them**.\n",
    "\n",
    "**Example 1:**\n",
    "\n",
    "**Input:** s = \"IDID\"\n",
    "\n",
    "**Output:**\n",
    "\n",
    "[0,4,1,3,2]\n",
    "\n",
    "</aside>"
   ]
  },
  {
   "cell_type": "code",
   "execution_count": 20,
   "metadata": {},
   "outputs": [
    {
     "data": {
      "text/plain": [
       "[0, 4, 1, 3, 2]"
      ]
     },
     "execution_count": 20,
     "metadata": {},
     "output_type": "execute_result"
    }
   ],
   "source": [
    "def di_perm(s):\n",
    "    low=0\n",
    "    high=len(s)\n",
    "    result=[]\n",
    "\n",
    "    for i in s:\n",
    "        if i==\"I\":\n",
    "            result.append(low)\n",
    "            low+=1\n",
    "        else:\n",
    "            result.append(high)\n",
    "            high-=1\n",
    "    \n",
    "    return result+[low]\n",
    "\n",
    "\n",
    "di_perm(\"IDID\")\n",
    "\n"
   ]
  },
  {
   "attachments": {},
   "cell_type": "markdown",
   "metadata": {},
   "source": [
    "<aside>\n",
    "💡 **Question 2**\n",
    "\n",
    "You are given an m x n integer matrix matrix with the following two properties:\n",
    "\n",
    "- Each row is sorted in non-decreasing order.\n",
    "- The first integer of each row is greater than the last integer of the previous row.\n",
    "\n",
    "Given an integer target, return true *if* target *is in* matrix *or* false *otherwise*.\n",
    "\n",
    "You must write a solution in O(log(m * n)) time complexity.\n",
    "\n",
    "**Input:** matrix = [[1,3,5,7],[10,11,16,20],[23,30,34,60]], target = 3\n",
    "\n",
    "**Output:** true\n",
    "\n",
    "</aside>"
   ]
  },
  {
   "cell_type": "code",
   "execution_count": 20,
   "metadata": {},
   "outputs": [],
   "source": [
    "def search(matrix,target):\n",
    "    col=len(matrix[0])-1\n",
    "    row=0\n",
    "    for i in range(len(matrix)):\n",
    "        if (matrix[i][col]==target):\n",
    "            return True\n",
    "        elif matrix[i][col]>target:\n",
    "            row=i\n",
    "            break\n",
    "    print(row)\n",
    "    start=0\n",
    "    end=len(matrix[0])-1\n",
    "    while(start<=end):\n",
    "        mid=(start+end)//2\n",
    "        if matrix[row][mid]==target:\n",
    "            return True\n",
    "        elif matrix[row][mid]>target:\n",
    "            end=mid-1\n",
    "        elif matrix[row][mid]<target:\n",
    "            start=mid+1\n",
    "    return False\n"
   ]
  },
  {
   "cell_type": "code",
   "execution_count": 21,
   "metadata": {},
   "outputs": [
    {
     "data": {
      "text/plain": [
       "True"
      ]
     },
     "execution_count": 21,
     "metadata": {},
     "output_type": "execute_result"
    }
   ],
   "source": [
    "search( matrix = [[1],[3]],target=1)"
   ]
  },
  {
   "attachments": {},
   "cell_type": "markdown",
   "metadata": {},
   "source": [
    "<aside>\n",
    "💡 **Question 3**\n",
    "\n",
    "Given an array of integers arr, return *true if and only if it is a valid mountain array*.\n",
    "\n",
    "Recall that arr is a mountain array if and only if:\n",
    "\n",
    "- arr.length >= 3\n",
    "- There exists some i with 0 < i < arr.length - 1 such that:\n",
    "    - arr[0] < arr[1] < ... < arr[i - 1] < arr[i]\n",
    "    - arr[i] > arr[i + 1] > ... > arr[arr.length - 1]\n",
    "**Example 1:**\n",
    "\n",
    "**Input:** arr = [2,1]\n",
    "\n",
    "**Output:**\n",
    "\n",
    "false\n",
    "\n",
    "</aside>"
   ]
  },
  {
   "cell_type": "code",
   "execution_count": 40,
   "metadata": {},
   "outputs": [],
   "source": [
    "def validMountainArray(arr):\n",
    "    if (len(arr))<3:\n",
    "        return False\n",
    "    ct_change=0\n",
    "    flag=\"incr\"\n",
    "    if arr[0]>arr[1]:\n",
    "        return False\n",
    "    elif arr[0]==arr[1]:\n",
    "        return False\n",
    "    for i in range(1,len(arr)-1):\n",
    "        if arr[i]>arr[i+1] and flag==\"incr\":\n",
    "            ct_change+=1\n",
    "            flag=\"decr\"\n",
    "        if arr[i]<arr[i+1] and flag==\"decr\":\n",
    "            ct_change+=1\n",
    "            flag=\"incr\"\n",
    "        \n",
    "        if arr[i]==arr[i+1]:\n",
    "            return False\n",
    "    if ct_change!=1:\n",
    "            return False\n",
    "    return True\n",
    "\n",
    "\n"
   ]
  },
  {
   "cell_type": "code",
   "execution_count": 41,
   "metadata": {},
   "outputs": [
    {
     "data": {
      "text/plain": [
       "True"
      ]
     },
     "execution_count": 41,
     "metadata": {},
     "output_type": "execute_result"
    }
   ],
   "source": [
    "validMountainArray( [0,1,2,4,2,1])"
   ]
  },
  {
   "attachments": {},
   "cell_type": "markdown",
   "metadata": {},
   "source": [
    "<aside>\n",
    "💡 **Question 4**\n",
    "\n",
    "Given a binary array nums, return *the maximum length of a contiguous subarray with an equal number of* 0 *and* 1.\n",
    "\n",
    "**Example 1:**\n",
    "\n",
    "**Input:** nums = [0,1]\n",
    "\n",
    "**Output:** 2\n",
    "\n",
    "**Explanation:**\n",
    "\n",
    "[0, 1] is the longest contiguous subarray with an equal number of 0 and 1.\n",
    "\n",
    "</aside>"
   ]
  },
  {
   "cell_type": "code",
   "execution_count": 77,
   "metadata": {},
   "outputs": [],
   "source": [
    "def maxl(nums):\n",
    "    count = {0: -1}  # Initial count of 0's and 1's\n",
    "    max_len = count_diff = 0\n",
    "            \n",
    "    for i, num in enumerate(nums):\n",
    "        count_diff += 1 if num == 1 else -1  # Increment count of 1's or 0's\n",
    "        if count_diff in count:\n",
    "            max_len = max(max_len, i - count[count_diff])\n",
    "        else:\n",
    "            count[count_diff] = i\n",
    "            \n",
    "    return max_len"
   ]
  },
  {
   "cell_type": "code",
   "execution_count": 78,
   "metadata": {},
   "outputs": [
    {
     "data": {
      "text/plain": [
       "4"
      ]
     },
     "execution_count": 78,
     "metadata": {},
     "output_type": "execute_result"
    }
   ],
   "source": [
    "maxl([0,1,0,1,0,0,0,1])"
   ]
  },
  {
   "attachments": {},
   "cell_type": "markdown",
   "metadata": {},
   "source": [
    "<aside>\n",
    "💡 **Question 5**\n",
    "\n",
    "The **product sum** of two equal-length arrays a and b is equal to the sum of a[i] * b[i] for all 0 <= i < a.length (**0-indexed**).\n",
    "\n",
    "- For example, if a = [1,2,3,4] and b = [5,2,3,1], the **product sum** would be 1*5 + 2*2 + 3*3 + 4*1 = 22.\n",
    "\n",
    "Given two arrays nums1 and nums2 of length n, return *the **minimum product sum** if you are allowed to **rearrange** the **order** of the elements in* nums1.\n",
    "\n",
    "**Example 1:**\n",
    "\n",
    "**Input:** nums1 = [5,3,4,2], nums2 = [4,2,2,5]\n",
    "\n",
    "**Output:** 40\n",
    "\n",
    "**Explanation:**\n",
    "\n",
    "We can rearrange nums1 to become [3,5,4,2]. The product sum of [3,5,4,2] and [4,2,2,5] is 3*4 + 5*2 + 4*2 + 2*5 = 40.\n",
    "\n",
    "</aside>"
   ]
  },
  {
   "cell_type": "code",
   "execution_count": 87,
   "metadata": {},
   "outputs": [
    {
     "data": {
      "text/plain": [
       "40"
      ]
     },
     "execution_count": 87,
     "metadata": {},
     "output_type": "execute_result"
    }
   ],
   "source": [
    "def min_prodSum(nums1,nums2):\n",
    "    nums1=sorted(nums1)\n",
    "    nums2=sorted(nums2,reverse=True)\n",
    "    sum=0\n",
    "    for i in range(len(nums1)):\n",
    "        sum+=nums1[i]*nums2[i]\n",
    "    return sum\n",
    "min_prodSum([5,3,4,2],[4,2,2,5])"
   ]
  },
  {
   "attachments": {},
   "cell_type": "markdown",
   "metadata": {},
   "source": [
    "\n",
    "💡 **Question 6**\n",
    "\n",
    "An integer array original is transformed into a **doubled** array changed by appending **twice the value** of every element in original, and then randomly **shuffling** the resulting array.\n",
    "\n",
    "Given an array changed, return original *if* changed *is a **doubled** array. If* changed *is not a **doubled** array, return an empty array. The elements in* original *may be returned in **any** order*.\n",
    "\n",
    "**Example 1:**\n",
    "\n",
    "**Input:** changed = [1,3,4,2,6,8]\n",
    "\n",
    "**Output:** [1,3,4]\n",
    "\n",
    "**Explanation:** One possible original array could be [1,3,4]:\n",
    "\n",
    "- Twice the value of 1 is 1 * 2 = 2.\n",
    "- Twice the value of 3 is 3 * 2 = 6.\n",
    "- Twice the value of 4 is 4 * 2 = 8.\n",
    "\n",
    "Other original arrays could be [4,3,1] or [3,1,4].\n",
    "\n",
    "</aside>"
   ]
  },
  {
   "cell_type": "code",
   "execution_count": 89,
   "metadata": {},
   "outputs": [
    {
     "data": {
      "text/plain": [
       "[1, 2, 3]"
      ]
     },
     "execution_count": 89,
     "metadata": {},
     "output_type": "execute_result"
    }
   ],
   "source": [
    "def findOriginalArray(changed):\n",
    "        ll = len(changed)\n",
    "        if ll % 2 != 0: return []\n",
    "        result, hashmap = [], {}\n",
    "        # Push numbers in hashmap {number: count}\n",
    "        for n in changed: hashmap[n] = 1 + hashmap.get(n, 0)\n",
    "        for num in sorted(hashmap.keys()):\n",
    "\n",
    "            if hashmap[num] > 0: # this condition means we already get all count of that number\n",
    "                # 0*2 = 0 so 0 is  twice the value of 0 so if the count of so we insert 2 zeros in list as one zero\n",
    "                # if there was 3 zeros we only insert 2 to the result\n",
    "                if num == 0:\n",
    "                    # we can put a condition here that if it found a odd count of zeros return emty list\n",
    "                    if hashmap[num] % 2 != 0: return []\n",
    "                    result += [0] * (hashmap[num] // 2)\n",
    "                    hashmap[num] = 0\n",
    "                # if the number anything else\n",
    "                elif hashmap.get(num * 2, False):\n",
    "                    if hashmap[num] > hashmap[num*2]: return []\n",
    "                    count = hashmap[num]\n",
    "                    hashmap[num * 2] -= count\n",
    "                    # insert the number with all counts into the result\n",
    "                    result += [num] * count \n",
    "\n",
    "        return result if len(result) == ll / 2 else []\n",
    "findOriginalArray([1,2,4,2,3,6])"
   ]
  },
  {
   "attachments": {},
   "cell_type": "markdown",
   "metadata": {},
   "source": [
    "<aside>\n",
    "💡 **Question 7**\n",
    "\n",
    "Given a positive integer n, generate an n x n matrix filled with elements from 1 to n2 in spiral order.\n",
    "\n",
    "**Example 1:**\n",
    "\n",
    "**Input:** n = 3\n",
    "\n",
    "**Output:** [[1,2,3],[8,9,4],[7,6,5]]\n",
    "\n",
    "</aside>"
   ]
  },
  {
   "cell_type": "code",
   "execution_count": 103,
   "metadata": {},
   "outputs": [],
   "source": [
    "def spiralOrder( matrix) :\n",
    "        if not matrix:\n",
    "            return []\n",
    "\n",
    "        rows, cols = len(matrix), len(matrix[0])\n",
    "        top, bottom, left, right = 0, rows-1, 0, cols-1\n",
    "        result = []\n",
    "        \n",
    "        while len(result) < rows * cols:\n",
    "            for i in range(left, right+1):\n",
    "                result.append(matrix[top][i])\n",
    "            top += 1\n",
    "            \n",
    "            for i in range(top, bottom+1):\n",
    "                result.append(matrix[i][right])\n",
    "            right -= 1\n",
    "            \n",
    "            if top <= bottom:\n",
    "                for i in range(right, left-1, -1):\n",
    "                    result.append(matrix[bottom][i])\n",
    "                bottom -= 1\n",
    "            \n",
    "            if left <= right:\n",
    "                for i in range(bottom, top-1, -1):\n",
    "                    result.append(matrix[i][left])\n",
    "                left += 1\n",
    "        \n",
    "        return result"
   ]
  },
  {
   "cell_type": "code",
   "execution_count": 105,
   "metadata": {},
   "outputs": [
    {
     "data": {
      "text/plain": [
       "[1, 2, 3, 4, 5, 6, 7, 8, 9]"
      ]
     },
     "execution_count": 105,
     "metadata": {},
     "output_type": "execute_result"
    }
   ],
   "source": [
    "spiralOrder([[1,2,3],[8,9,4],[7,6,5]])"
   ]
  },
  {
   "attachments": {},
   "cell_type": "markdown",
   "metadata": {},
   "source": [
    "<aside>\n",
    "💡 **Question 8**\n",
    "\n",
    "Given two [sparse matrices](https://en.wikipedia.org/wiki/Sparse_matrix) mat1 of size m x k and mat2 of size k x n, return the result of mat1 x mat2. You may assume that multiplication is always possible.\n",
    "\n",
    "**Example 1:**\n",
    "\n",
    "**Input:** mat1 = [[1,0,0],[-1,0,3]], mat2 = [[7,0,0],[0,0,0],[0,0,1]]\n",
    "\n",
    "**Output:**\n",
    "\n",
    "[[7,0,0],[-7,0,3]]\n",
    "\n",
    "</aside>"
   ]
  },
  {
   "cell_type": "code",
   "execution_count": 99,
   "metadata": {},
   "outputs": [],
   "source": [
    "def multiply( A, B):\n",
    "\n",
    "        rowA = len(A)\n",
    "        colA = len(A[0])\n",
    "        colB = len(B[0])\n",
    "        ret = [[0 for column in range(colB)] for row in range(rowA)]\n",
    "        for i in range(rowA):\n",
    "            for j in range(colA):\n",
    "                if A[i][j] != 0:\n",
    "                    for k in range(colB):\n",
    "                        ret[i][k] += A[i][j] * B[j][k]\n",
    "        return ret"
   ]
  },
  {
   "cell_type": "code",
   "execution_count": 100,
   "metadata": {},
   "outputs": [
    {
     "data": {
      "text/plain": [
       "[[7, 0, 0], [-7, 0, 3]]"
      ]
     },
     "execution_count": 100,
     "metadata": {},
     "output_type": "execute_result"
    }
   ],
   "source": [
    "multiply( [[1,0,0],[-1,0,3]],  [[7,0,0],[0,0,0],[0,0,1]])"
   ]
  },
  {
   "cell_type": "code",
   "execution_count": null,
   "metadata": {},
   "outputs": [],
   "source": []
  }
 ],
 "metadata": {
  "kernelspec": {
   "display_name": "Python 3",
   "language": "python",
   "name": "python3"
  },
  "language_info": {
   "codemirror_mode": {
    "name": "ipython",
    "version": 3
   },
   "file_extension": ".py",
   "mimetype": "text/x-python",
   "name": "python",
   "nbconvert_exporter": "python",
   "pygments_lexer": "ipython3",
   "version": "3.11.3"
  },
  "orig_nbformat": 4
 },
 "nbformat": 4,
 "nbformat_minor": 2
}
